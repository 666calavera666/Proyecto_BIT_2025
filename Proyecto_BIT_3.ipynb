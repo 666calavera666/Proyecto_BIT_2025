{
 "cells": [
  {
   "cell_type": "markdown",
   "metadata": {},
   "source": [
    "Actividad 3.\n",
    "\n",
    "1. Generar preguntas de interes o hipotesis de interes sobre el dataset elegido para el proyecto final.\n",
    "2. Crear visualizaciones (univariados, bivariados o trivariados) junto con resumenes numericos basicos acordes con los tipos de variables disponibles.\n",
    "3. Interpretar los resultados obtenidos."
   ]
  },
  {
   "cell_type": "code",
   "execution_count": 1,
   "metadata": {},
   "outputs": [],
   "source": [
    "import pandas as pd\n",
    "\n",
    "Vacunas = pd.read_csv(\"Asignacion_vacuna_contra_COVID-19.csv\")\n",
    "Muertes = pd.read_csv(\"Fallecidos_COVID_en_Colombia.csv\")"
   ]
  },
  {
   "cell_type": "markdown",
   "metadata": {},
   "source": [
    "Preguntas \n",
    "\n",
    "1. Cuantas muertes por covid-19 se reportan por region?\n",
    "2. Cuantas vacunas se aplicaron discriminadas por laboratorio por cada region?\n",
    "3. Existe relacion en el tipo de vacuna mas aplicada en cada region y cantidad de muertes."
   ]
  },
  {
   "cell_type": "code",
   "execution_count": null,
   "metadata": {},
   "outputs": [],
   "source": [
    "# Agrupar Muertes por Region (Departamento)\n",
    "muertes_por_region = Muertes.groupby('Nombre departamento').size().reset_index(name='Muertes')\n",
    "\n",
    "# Por comodidad vamos a trabajar con el top 10 de regiones con mayor numero de muertes\n",
    "top_regiones = muertes_por_region.nlargest(10, 'Muertes')\n",
    "\n",
    "\n",
    "print(top_regiones)"
   ]
  },
  {
   "cell_type": "markdown",
   "metadata": {},
   "source": [
    "En esta parte se analizan los datos contentidos en el Dataframe Vacunas y se observa que algunas para el mismo labortatorio de vacunas el archivo las reporta con diferentes formas de escritura como como en el caso de Astrazeneca. Mismo escenario para los territorios.\n",
    "\n",
    "Se normaliza la data y se filtra para tener una tabla con mejor visibilidad y que contenga solo la informacion deseable para el analisis.\n",
    "\n",
    "Para normalizar la data se crean dos diccionarions que reemplazaran la informacion contenida en el dataset para grupar los laboratorios y los territorios."
   ]
  },
  {
   "cell_type": "code",
   "execution_count": null,
   "metadata": {},
   "outputs": [],
   "source": [
    "# Normalizacion de las variables\n",
    "\n",
    "labs_corrections = {\n",
    "    'ASTRAZENECA': 'AZTRAZENECA',\n",
    "    'astrezenca': 'AZTRAZENECA',  \n",
    "    'pfizer': 'PFIZER',          \n",
    "    'sinovac ': 'SINOVAC'         \n",
    "}\n",
    "Vacunas['Laboratorio_Vacuna'] = Vacunas['Laboratorio_Vacuna'].replace(labs_corrections)\n",
    "\n",
    "territorio_corrections = {\n",
    "    \"ATLÁNTICO\" : \"ATLANTICO\",\n",
    "    'ATLANTICO' : 'ATLANTICO',\n",
    "    'SANTA MARTHA' : 'SANTA MARTA',\n",
    "    'SANTA MARTA' : 'SANTA MARTA',\n",
    "    'BOGOTÁ D.C.' : 'BOGOTA D.C.',\n",
    "    'BOGOTA D.C.' : 'BOGOTA D.C.',\n",
    "    'BOYACÁ' : 'BOYACA',\n",
    "    'BOYACA' : 'BOYACA',\n",
    "    'CAQUETÁ' : 'CAQUETA',\n",
    "    'CAQUETA' : 'CAQUETA',\n",
    "    'CHOCÓ' : 'CHOCO',\n",
    "    'CHOCO' : 'CHOCO',\n",
    "    'CÓRDOBA' : 'CORDOBA',\n",
    "    'CORDOBA' : 'CORDOBA',\n",
    "    'LA_GUAJIRA' : 'LA GUAJIRA',\n",
    "    'LA GUAJIRA' : 'LA GUAJIRA',\n",
    "    'QUINDÍO' : 'QUINDIO',\n",
    "    'QUINDIO' : 'QUINDIO',\n",
    "    'VALLE_DEL_CAUCA' : 'VALLE DEL CAUCA',\n",
    "    'VALLE DEL CAUCA' : 'VALLE DEL CAUCA',\n",
    "    'VAUPÉS' :  'VAUPES',\n",
    "    'VAUPES' :  'VAUPES',\n",
    "    'SAN ANDRES, PROVIDENCIA Y SANTA CATALINA' :'SAN ANDRES',\n",
    "    'BOLÍVAR' : 'BOLIVAR',\n",
    "    'BOLIVAR': 'BOLIVAR'\n",
    "}\n",
    "\n",
    "Vacunas['Nom_Territorio'] = Vacunas['Nom_Territorio'].replace(territorio_corrections)\n",
    "\n",
    "# Filtrado de Datos \n",
    "\n",
    "vacunas_filtradas = Vacunas[['Nom_Territorio', 'Laboratorio_Vacuna', 'Cantidad']].dropna()\n",
    "\n",
    "vacunas_pivot = vacunas_filtradas.pivot_table(\n",
    "    index='Nom_Territorio',\n",
    "    columns='Laboratorio_Vacuna',\n",
    "    values='Cantidad',\n",
    "    aggfunc='sum',\n",
    "    fill_value=0\n",
    ").reset_index()\n",
    "\n",
    "vacunas_pivot.columns.name = None  \n",
    "\n",
    "print(vacunas_pivot)"
   ]
  }
 ],
 "metadata": {
  "kernelspec": {
   "display_name": "Python 3",
   "language": "python",
   "name": "python3"
  },
  "language_info": {
   "codemirror_mode": {
    "name": "ipython",
    "version": 3
   },
   "file_extension": ".py",
   "mimetype": "text/x-python",
   "name": "python",
   "nbconvert_exporter": "python",
   "pygments_lexer": "ipython3",
   "version": "3.10.0"
  }
 },
 "nbformat": 4,
 "nbformat_minor": 2
}
