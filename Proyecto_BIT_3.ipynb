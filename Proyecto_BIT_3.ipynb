{
 "cells": [
  {
   "cell_type": "markdown",
   "metadata": {},
   "source": [
    "Actividad 3.\n",
    "\n",
    "1. Generar preguntas de interes o hipotesis de interes sobre el dataset elegido para el proyecto final.\n",
    "2. Crear visualizaciones (univariados, bivariados o trivariados) junto con resumenes numericos basicos acordes con los tipos de variables disponibles.\n",
    "3. Interpretar los resultados obtenidos."
   ]
  },
  {
   "cell_type": "code",
   "execution_count": 1,
   "metadata": {},
   "outputs": [],
   "source": [
    "import pandas as pd\n",
    "\n",
    "Vacunas = pd.read_csv(\"Asignacion_vacuna_contra_COVID-19.csv\")\n",
    "Muertes = pd.read_csv(\"Fallecidos_COVID_en_Colombia.csv\")"
   ]
  },
  {
   "cell_type": "markdown",
   "metadata": {},
   "source": [
    "Preguntas \n",
    "\n",
    "1. Cuantas muertes por covid-19 se reportan por region?\n",
    "2. Cuantas vacunas se aplicaron discriminadas por laboratorio por cada region?\n",
    "3. Existe relacion en el tipo de vacuna mas aplicada en cada region y cantidad de muertes."
   ]
  },
  {
   "cell_type": "code",
   "execution_count": null,
   "metadata": {},
   "outputs": [],
   "source": [
    "# Agrupar Muertes por Region (Departamento)\n",
    "muertes_por_region = Muertes.groupby('Nombre departamento').size().reset_index(name='Muertes')\n",
    "\n",
    "# Por comodidad vamos a trabajar con el top 10 de regiones con mayor numero de muertes\n",
    "top_regiones = muertes_por_region.nlargest(10, 'Muertes')\n",
    "\n",
    "\n",
    "print(top_regiones)"
   ]
  },
  {
   "cell_type": "markdown",
   "metadata": {},
   "source": [
    "En esta parte se analizan los datos contentidos en el Dataframe Vacunas y se observa que algunas para el mismo labortatorio de vacunas el archivo las reporta con diferentes formas de escritura como como en el caso de Astrazeneca. Mismo escenario para los territorios.\n",
    "\n",
    "Se normaliza la data y se filtra para tener una tabla con mejor visibilidad y que contenga solo la informacion deseable para el analisis.\n",
    "\n",
    "Para normalizar la data se crean dos diccionarions que reemplazaran la informacion contenida en el dataset para grupar los laboratorios y los territorios."
   ]
  },
  {
   "cell_type": "code",
   "execution_count": null,
   "metadata": {},
   "outputs": [],
   "source": [
    "# Normalizacion de las variables\n",
    "\n",
    "labs_corrections = {\n",
    "    'ASTRAZENECA': 'AZTRAZENECA',\n",
    "    'astrezenca': 'AZTRAZENECA',  \n",
    "    'pfizer': 'PFIZER',          \n",
    "    'sinovac ': 'SINOVAC'         \n",
    "}\n",
    "Vacunas['Laboratorio_Vacuna'] = Vacunas['Laboratorio_Vacuna'].replace(labs_corrections)\n",
    "\n",
    "territorio_corrections = {\n",
    "    \"ATLÁNTICO\" : \"ATLANTICO\",\n",
    "    'ATLANTICO' : 'ATLANTICO',\n",
    "    'SANTA MARTHA' : 'SANTA MARTA',\n",
    "    'SANTA MARTA' : 'SANTA MARTA',\n",
    "    'BOGOTÁ D.C.' : 'BOGOTA D.C.',\n",
    "    'BOGOTA D.C.' : 'BOGOTA D.C.',\n",
    "    'BOYACÁ' : 'BOYACA',\n",
    "    'BOYACA' : 'BOYACA',\n",
    "    'CAQUETÁ' : 'CAQUETA',\n",
    "    'CAQUETA' : 'CAQUETA',\n",
    "    'CHOCÓ' : 'CHOCO',\n",
    "    'CHOCO' : 'CHOCO',\n",
    "    'CÓRDOBA' : 'CORDOBA',\n",
    "    'CORDOBA' : 'CORDOBA',\n",
    "    'LA_GUAJIRA' : 'LA GUAJIRA',\n",
    "    'LA GUAJIRA' : 'LA GUAJIRA',\n",
    "    'QUINDÍO' : 'QUINDIO',\n",
    "    'QUINDIO' : 'QUINDIO',\n",
    "    'VALLE_DEL_CAUCA' : 'VALLE DEL CAUCA',\n",
    "    'VALLE DEL CAUCA' : 'VALLE DEL CAUCA',\n",
    "    'VAUPÉS' :  'VAUPES',\n",
    "    'VAUPES' :  'VAUPES',\n",
    "    'SAN ANDRES, PROVIDENCIA Y SANTA CATALINA' :'SAN ANDRES',\n",
    "    'BOLÍVAR' : 'BOLIVAR',\n",
    "    'BOLIVAR': 'BOLIVAR'\n",
    "}\n",
    "\n",
    "Vacunas['Nom_Territorio'] = Vacunas['Nom_Territorio'].replace(territorio_corrections)\n",
    "\n",
    "# Filtrado de Datos \n",
    "\n",
    "vacunas_filtradas = Vacunas[['Nom_Territorio', 'Laboratorio_Vacuna', 'Cantidad']].dropna()\n",
    "\n",
    "vacunas_pivot = vacunas_filtradas.pivot_table(\n",
    "    index='Nom_Territorio',\n",
    "    columns='Laboratorio_Vacuna',\n",
    "    values='Cantidad',\n",
    "    aggfunc='sum',\n",
    "    fill_value=0\n",
    ").reset_index()\n",
    "\n",
    "vacunas_pivot.columns.name = None  \n",
    "\n",
    "print(vacunas_pivot)"
   ]
  },
  {
   "cell_type": "code",
   "execution_count": null,
   "metadata": {},
   "outputs": [],
   "source": [
    "import plotly.express as px\n",
    "\n",
    "# Melt the pivoted DataFrame for Plotly\n",
    "melted_data = vacunas_pivot.melt(\n",
    "    id_vars='Nom_Territorio', \n",
    "    var_name='Laboratorio_Vacuna', \n",
    "    value_name='Cantidad'\n",
    ")\n",
    "\n",
    "melted_data['Cantidad'] = melted_data['Cantidad'].fillna(0)\n",
    "\n",
    "# Plot a bar chart\n",
    "fig = px.bar(\n",
    "    melted_data,\n",
    "    x='Laboratorio_Vacuna', \n",
    "    y='Cantidad', \n",
    "    color='Laboratorio_Vacuna',\n",
    "    title='Vacunas aplicadas por laboratorio en todas las regiones',\n",
    "    labels={'Laboratorio_Vacuna': 'Laboratorio', 'Cantidad': 'Cantidad Aplicada'}\n",
    ")\n",
    "\n",
    "# Display the chart\n",
    "fig.show()"
   ]
  },
  {
   "cell_type": "markdown",
   "metadata": {},
   "source": [
    "De acuerdo con lo anterior, las zonas que reportaron mas muertes por Covid-19 fueron Bogota, Antioqui, Valle del Cauca y Santander. \n",
    "En cuanto a las dosis aplicadas, el laboratorio que aplico mas vacunas en todo el territorio nacional fue Pfizer, seguido de Sinovac.\n",
    "\n",
    "Existe relacion entre vacunas apliacadas y muertes por region?"
   ]
  },
  {
   "cell_type": "code",
   "execution_count": null,
   "metadata": {},
   "outputs": [],
   "source": [
    "vacunas_filtradas.rename(columns={\"Nom_Territorio\": \"Nombre departamento\"}, inplace=True)\n",
    "\n",
    "vacunas_filtradas.columns = vacunas_filtradas.columns.str.strip()\n",
    "top_regiones.columns = top_regiones.columns.str.strip()\n",
    "\n",
    "#print(\"Vacunas columns:\", vacunas_filtradas.columns.tolist())\n",
    "#print(\"Muertes columns:\", top_regiones.columns.tolist())\n",
    "\n",
    "vacunas_filtradas.rename(columns={\"Nombre departamento\": \"Departamento\"}, inplace=True)\n",
    "top_regiones.rename(columns={\"Nombre departamento\": \"Departamento\"}, inplace=True)\n",
    "\n",
    "df_merged = pd.merge(top_regiones, vacunas_filtradas, on=\"Departamento\")\n",
    "\n",
    "print(df_merged.info())\n",
    "print(df_merged.head())"
   ]
  },
  {
   "cell_type": "markdown",
   "metadata": {},
   "source": [
    "Para el analisis de correlacion se utilizo el meto \"merge\" para crear una columna en comun en ambos datastes la cual lleva como nombre \"Departamento\""
   ]
  },
  {
   "cell_type": "code",
   "execution_count": 23,
   "metadata": {},
   "outputs": [
    {
     "name": "stdout",
     "output_type": "stream",
     "text": [
      "Corelacion entre muertes y cantidad de vacuneas aplicadas: 0.43919942488017405\n"
     ]
    }
   ],
   "source": [
    "correlation_value = df_merged[\"Muertes\"].corr(df_merged[\"Cantidad\"])\n",
    "print(f\"Corelacion entre muertes y cantidad de vacuneas aplicadas: {correlation_value}\")"
   ]
  },
  {
   "cell_type": "markdown",
   "metadata": {},
   "source": [
    "Una correlacion de 0.43 impliaca que, pese a que hay una correlacion positiva entre la cantidad de muertes por Covid-19 y la cantidad de dosis aplicadas, no es posible determinar que las muertes se deban a la aplicacion de vacunas. Se podria decir que a mayor cantidad de infectados, mayor cantidad de dosis aplicadas y que las muertes se pueden deber a la gravedad del brote de covid-19 y a otros factores externos, como la edad, enfermedades de base, entre otros."
   ]
  },
  {
   "cell_type": "code",
   "execution_count": null,
   "metadata": {},
   "outputs": [],
   "source": [
    "import matplotlib.pyplot as plt\n",
    "\n",
    "plt.scatter(df_merged[\"Cantidad\"], df_merged[\"Muertes\"], alpha=0.5)\n",
    "plt.xlabel(\"Vaccines Applied\")\n",
    "plt.ylabel(\"COVID-19 Deaths\")\n",
    "plt.title(\"Correlation Between Vaccination and Deaths\")\n",
    "plt.show()"
   ]
  }
 ],
 "metadata": {
  "kernelspec": {
   "display_name": "Python 3",
   "language": "python",
   "name": "python3"
  },
  "language_info": {
   "codemirror_mode": {
    "name": "ipython",
    "version": 3
   },
   "file_extension": ".py",
   "mimetype": "text/x-python",
   "name": "python",
   "nbconvert_exporter": "python",
   "pygments_lexer": "ipython3",
   "version": "3.10.0"
  }
 },
 "nbformat": 4,
 "nbformat_minor": 2
}
