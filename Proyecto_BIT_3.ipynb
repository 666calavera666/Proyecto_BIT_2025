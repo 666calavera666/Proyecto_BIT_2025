{
 "cells": [
  {
   "cell_type": "markdown",
   "metadata": {},
   "source": [
    "Actividad 3.\n",
    "\n",
    "1. Generar preguntas de interes o hipotesis de interes sobre el dataset elegido para el proyecto final.\n",
    "2. Crear visualizaciones (univariados, bivariados o trivariados) junto con resumenes numericos basicos acordes con los tipos de variables disponibles.\n",
    "3. Interpretar los resultados obtenidos."
   ]
  },
  {
   "cell_type": "code",
   "execution_count": 1,
   "metadata": {},
   "outputs": [],
   "source": [
    "import pandas as pd\n",
    "\n",
    "Vacunas = pd.read_csv(\"Asignacion_vacuna_contra_COVID-19.csv\")\n",
    "Muertes = pd.read_csv(\"Fallecidos_COVID_en_Colombia.csv\")"
   ]
  },
  {
   "cell_type": "markdown",
   "metadata": {},
   "source": [
    "Preguntas \n",
    "\n",
    "1. Cuantas muertes por covid-19 se reportan por region?\n",
    "2. Cuantas vacunas se aplicaron discriminadas por laboratorio por cada region?\n",
    "3. Existe relacion en el tipo de vacuna mas aplicada en cada region y cantidad de muertes."
   ]
  },
  {
   "cell_type": "code",
   "execution_count": null,
   "metadata": {},
   "outputs": [],
   "source": [
    "# Agrupar Muertes por Region (Departamento)\n",
    "muertes_por_region = Muertes.groupby('Nombre departamento').size().reset_index(name='Muertes')\n",
    "\n",
    "# Por comodidad vamos a trabajar con el top 10 de regiones con mayor numero de muertes\n",
    "top_regiones = muertes_por_region.nlargest(10, 'Muertes')\n",
    "\n",
    "print(top_regiones)"
   ]
  },
  {
   "cell_type": "code",
   "execution_count": null,
   "metadata": {},
   "outputs": [],
   "source": [
    "# Agrupar por territorio y laboratorio, sumando la cantidad de vacunas aplicadas\n",
    "vacunas_por_territorio = (\n",
    "    Vacunas.groupby(['Nombre departamento', 'Laboratorio_Vacuna'])['Cantidad']\n",
    "    .sum()\n",
    "    .reset_index()\n",
    ")\n",
    "\n",
    "print(vacunas_por_territorio)\n",
    "\n",
    "vacunas_top_regiones = vacunas_por_territorio[vacunas_por_territorio['Nombre departamento'].isin(top_regiones)]\n",
    "\n",
    "print(vacunas_top_regiones)"
   ]
  }
 ],
 "metadata": {
  "kernelspec": {
   "display_name": "Python 3",
   "language": "python",
   "name": "python3"
  },
  "language_info": {
   "codemirror_mode": {
    "name": "ipython",
    "version": 3
   },
   "file_extension": ".py",
   "mimetype": "text/x-python",
   "name": "python",
   "nbconvert_exporter": "python",
   "pygments_lexer": "ipython3",
   "version": "3.10.0"
  }
 },
 "nbformat": 4,
 "nbformat_minor": 2
}
