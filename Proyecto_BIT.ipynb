{
 "cells": [
  {
   "cell_type": "markdown",
   "metadata": {},
   "source": [
    "Actividad 1: Eleccion de Potenciales Datasets\n",
    "\n",
    "Se seleccionaton los siguientes Datasets relacionados al Covid-19 con el fin de interpretar los datos y encontrar relacion entre muertes registras, regiones afectadas, numero de prubeas PCR aplicades, casos Covid-19 reportados y asignacion de vacunas por laboratorio.\n",
    "\n",
    "1. Se extraen los datos y se asignan al diccionario \"dataframes\"\n",
    "2. A cada dataframe se le asigna una key en orden de lectura, el contenido de cada key es la infromacion del archivo csv\n",
    "3. Lectura de variables de interes\n",
    "    3.1. La primera variable de interes corresponde a los territors en los cuales se aplicaron mas vacunas\n",
    "    3.2. La segunda variable corresponde a los territorios con mas fallecidos por Covid-19\n",
    "    3.3. La tercera variable corresponde al sexo de los fallecidos"
   ]
  },
  {
   "cell_type": "code",
   "execution_count": null,
   "metadata": {},
   "outputs": [],
   "source": [
    "import pandas as pd\n",
    "import numpy as np\n",
    "import os\n",
    "import warnings\n",
    "warnings.filterwarnings(\"ignore\")\n",
    "\n",
    "path = os.getcwd()\n",
    "\n",
    "file_names=[x for x in os.listdir() if 'COVID' in x]\n",
    "print(file_names)\n",
    "\n",
    "#Data Extraction ---\n",
    "\n",
    "dataframes = {}\n",
    "\n",
    "for file_name in file_names:\n",
    "    full_path = f\"{path}/{file_name}\"\n",
    "    \"\"\"print(f\"Data Frame: {file_name}\")\"\"\"\n",
    "    try:\n",
    "        df = pd.read_csv(full_path, sep=\",\", encoding='utf-8')\n",
    "        dataframes[file_name.split('.')[0]] = df\n",
    "    except Exception as e:\n",
    "        print(f\"Error al procesar {file_name}: {e}\")\n",
    "    \"\"\"print(df)\"\"\"\n",
    "    print(\"-\" * 40)\n",
    "\n",
    "#Variables de Interes ---\n",
    "\n",
    "first_key = list(dataframes.keys())[0]\n",
    "vacunados = dataframes[first_key]\n",
    "Vacunados_Variable = \"Nom_Territorio\" #interesa saber los territorios con mas aplicacion de vacunas\n",
    "\n",
    "if Vacunados_Variable in vacunados.columns:\n",
    "    print(f\"Conteo de valores para '{Vacunados_Variable}' en Vacunados:\")\n",
    "    print(vacunados[Vacunados_Variable].value_counts())\n",
    "else:\n",
    "    print(\"No se encentra la variable\")\n",
    "\n",
    "second_key = list(dataframes.keys())[1]\n",
    "fallecidos = dataframes[second_key]\n",
    "Fallecidos_Variable = \"Nombre departamento\" #interesa saber los territorios con mas fallecidos\n",
    "\n",
    "if Fallecidos_Variable in fallecidos.columns:\n",
    "    print(f\"Conteo de valores para '{Fallecidos_Variable}'en Fallecidos:\")\n",
    "    print(fallecidos[Fallecidos_Variable].value_counts())\n",
    "else:\n",
    "    print(\"No se encentra la variable\")\n",
    "\n",
    "third_key = list(dataframes.keys())[1]\n",
    "sexo_fallecidos = dataframes[second_key]\n",
    "Sexo_Fallecidos = \"Sexo\" #interesa el sexo de los fallecidos\n",
    "\n",
    "if Sexo_Fallecidos in sexo_fallecidos.columns:\n",
    "    print(f\"Conteo de valores para '{Sexo_Fallecidos}'en Fallecidos:\")\n",
    "    print(sexo_fallecidos[Sexo_Fallecidos].value_counts())\n",
    "else:\n",
    "    print(\"No se encentra la variable\")\n"
   ]
  },
  {
   "cell_type": "markdown",
   "metadata": {},
   "source": []
  }
 ],
 "metadata": {
  "kernelspec": {
   "display_name": "Python 3",
   "language": "python",
   "name": "python3"
  },
  "language_info": {
   "codemirror_mode": {
    "name": "ipython",
    "version": 3
   },
   "file_extension": ".py",
   "mimetype": "text/x-python",
   "name": "python",
   "nbconvert_exporter": "python",
   "pygments_lexer": "ipython3",
   "version": "3.10.0"
  }
 },
 "nbformat": 4,
 "nbformat_minor": 2
}
